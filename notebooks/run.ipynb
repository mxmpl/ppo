{
  "cells": [
    {
      "cell_type": "code",
      "execution_count": null,
      "metadata": {
        "id": "ojohAeMvyea-"
      },
      "outputs": [],
      "source": [
        "from google.colab import drive\n",
        "from IPython.display import clear_output\n",
        "drive.mount('/content/drive')"
      ]
    },
    {
      "cell_type": "code",
      "execution_count": null,
      "metadata": {
        "id": "ROR4k568xFJW"
      },
      "outputs": [],
      "source": [
        "%cd /content/drive/MyDrive/drl\n",
        "!git clone https://github.com/mxmpl/ppo\n",
        "%cd /content/drive/MyDrive/drl/ppo\n",
        "!git pull\n",
        "clear_output()"
      ]
    },
    {
      "cell_type": "code",
      "execution_count": null,
      "metadata": {
        "id": "s8EljPfW7l3L"
      },
      "outputs": [],
      "source": [
        "!apt-get install -y \\\n",
        "    libgl1-mesa-dev \\\n",
        "    libgl1-mesa-glx \\\n",
        "    libglew-dev \\\n",
        "    libosmesa6-dev \\\n",
        "    software-properties-common \\\n",
        "    patchelf\n",
        "!pip install -r requirements.txt\n",
        "!pip install free-mujoco-py\n",
        "!pip install -e .\n",
        "import mujoco_py\n",
        "clear_output()\n",
        "%cd scripts"
      ]
    },
    {
      "cell_type": "code",
      "execution_count": null,
      "metadata": {
        "id": "-CwII6jbZbo8"
      },
      "outputs": [],
      "source": [
        "sh = \"\"\"\n",
        "workdir='double-pendulum'\n",
        "for seed in `seq 1 10`; do\n",
        "    python run.py \\\n",
        "    $seed \\\n",
        "    --horizon 4 \\\n",
        "    --learning_rate 1e-4 \\\n",
        "    --num_epochs 10 \\\n",
        "    --num_minibatches 8 \\\n",
        "    --minibatch_size 8 \\\n",
        "    --discount 0.99 \\\n",
        "    --gae_lambda 0.95 \\\n",
        "    --clipping_epsilon 0.2 \\\n",
        "    --entropy_coeff 0 \\\n",
        "    --value_coeff 1 \\\n",
        "    --adam_epsilon 1e-5 \\\n",
        "    --max_gradient_norm 0.5 \\\n",
        "    --workdir $workdir \\\n",
        "    --num_steps 1_000_000 \\\n",
        "    --env double-pendulum \\\n",
        "; done\n",
        "\"\"\"\n",
        "with open('run_script.sh', 'w') as f:\n",
        "    f.write(sh)\n",
        "!bash run_script.sh"
      ]
    }
  ],
  "metadata": {
    "accelerator": "GPU",
    "colab": {
      "collapsed_sections": [],
      "name": "[DRL] Project.ipynb",
      "provenance": []
    },
    "kernelspec": {
      "display_name": "Python 3",
      "name": "python3"
    },
    "language_info": {
      "name": "python",
      "version": "3.9.7"
    }
  },
  "nbformat": 4,
  "nbformat_minor": 0
}
